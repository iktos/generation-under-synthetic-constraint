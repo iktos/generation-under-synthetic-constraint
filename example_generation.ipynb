{
 "cells": [
  {
   "cell_type": "code",
   "execution_count": 32,
   "metadata": {},
   "outputs": [],
   "source": [
    "from guacamol_baselines.smiles_lstm_hc.goal_directed_generation import  goal_directed_generation\n",
    "from pymongo import MongoClient\n",
    "import pandas as pd\n",
    "import matplotlib.pyplot as plt\n",
    "import os\n",
    "\n",
    "db_storage = \"paperGenerationSynth\"\n",
    "os.environ[\"DB_STORAGE\"]= db_storage\n",
    "mongo_url = os.getenv(\"MONGO_URL\")"
   ]
  },
  {
   "cell_type": "code",
   "execution_count": 33,
   "metadata": {},
   "outputs": [],
   "source": []
  },
  {
   "cell_type": "code",
   "execution_count": null,
   "metadata": {},
   "outputs": [
    {
     "name": "stdout",
     "output_type": "stream",
     "text": [
      "version name :  pi3kmtor\n",
      "selecting initial population...\n",
      "smiles loaded ... ,len. ? 463\n",
      "top k calculated\n",
      "database :  pi3kmtorRSPred_10\n",
      "going to score payload  177\n",
      "going to score payload  149\n",
      "going to score payload  127\n",
      "going to score payload  115\n",
      "going to score payload  92\n",
      "going to score payload  88\n",
      "going to score payload  87\n",
      "going to score payload  73\n",
      "going to score payload  49\n",
      "going to score payload  50\n",
      "going to score payload  59\n",
      "going to score payload  53\n",
      "going to score payload  62\n",
      "going to score payload  49\n"
     ]
    }
   ],
   "source": [
    "goal_directed_generation(\n",
    "        suite=\"pi3kmtor\",\n",
    "        synth_score=\"RSPred\",\n",
    "        n_epochs = 15,\n",
    "        mols_to_sample = 256,\n",
    "        keep_top = 64\n",
    ")"
   ]
  },
  {
   "cell_type": "code",
   "execution_count": null,
   "metadata": {},
   "outputs": [],
   "source": [
    "name_database = \"pi3kmtorRSPred_10\""
   ]
  },
  {
   "cell_type": "code",
   "execution_count": 22,
   "metadata": {},
   "outputs": [],
   "source": [
    "db = MongoClient(mongo_url)[db_storage]\n",
    "results = pd.DataFrame(list(db[name_database].find({})))"
   ]
  },
  {
   "cell_type": "code",
   "execution_count": 29,
   "metadata": {},
   "outputs": [
    {
     "data": {
      "text/plain": [
       "[<matplotlib.lines.Line2D at 0x7ff6805fbc10>]"
      ]
     },
     "execution_count": 29,
     "metadata": {},
     "output_type": "execute_result"
    },
    {
     "data": {
      "image/png": "[encoded data removed]",
      "text/plain": [
       "<Figure size 432x288 with 1 Axes>"
      ]
     },
     "metadata": {
      "needs_background": "light"
     },
     "output_type": "display_data"
    }
   ],
   "source": [
    "evolution_reward = results[[\"reward\",\"epoch\"]].groupby(by=\"epoch\").mean()\n",
    "plt.plot(evolution_reward.reward.to_list())\n",
    "plt.title(\"Evolution of rewards\")\n",
    "plt.xlabel(\"Epochs\")\n",
    "plt.ylabel(\"Reward\")"
   ]
  },
  {
   "cell_type": "code",
   "execution_count": null,
   "metadata": {},
   "outputs": [],
   "source": []
  }
 ],
 "metadata": {
  "kernelspec": {
   "display_name": "guacamol_3.7",
   "language": "python",
   "name": "guacamol_project_3.7"
  },
  "language_info": {
   "codemirror_mode": {
    "name": "ipython",
    "version": 3
   },
   "file_extension": ".py",
   "mimetype": "text/x-python",
   "name": "python",
   "nbconvert_exporter": "python",
   "pygments_lexer": "ipython3",
   "version": "3.7.9"
  }
 },
 "nbformat": 4,
 "nbformat_minor": 4
}
